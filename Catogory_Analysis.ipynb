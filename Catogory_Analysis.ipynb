{
 "cells": [
  {
   "cell_type": "code",
   "execution_count": 9,
   "metadata": {},
   "outputs": [],
   "source": [
    "import pandas as pd\n",
    "from datetime import datetime\n",
    "import plotly\n",
    "import plotly.graph_objs as go\n",
    "from plotly.offline import download_plotlyjs, init_notebook_mode, plot, iplot\n",
    "companies = pd.read_csv('companies.csv')\n",
    "companies = companies[pd.notnull(companies['founded_at'])]\n",
    "companies['founded_year']=companies['founded_at'].apply(lambda x:datetime.strptime(x, '%Y-%m-%d').year)\n",
    "year = list(range(companies['founded_year'].min(),companies['founded_year'].max()+1))\n",
    "\n"
   ]
  },
  {
   "cell_type": "code",
   "execution_count": 16,
   "metadata": {},
   "outputs": [],
   "source": [
    "# fintech,sailing \n",
    "companies = companies[pd.notnull(companies['country_code'])]\n",
    "usa = companies[companies['country_code']==\"USA\"]\n",
    "usa = usa[pd.notnull(usa['category_list'])]\n",
    "ft_bf2002 = usa[(usa['founded_year'] <= 2002) & (usa['category_list'].str.contains('fintech', case=False))]\n",
    "ft_af2002 = usa[(usa['founded_year'] > 2002) & (usa['category_list'].str.contains('fintech', case=False))]"
   ]
  },
  {
   "cell_type": "code",
   "execution_count": 29,
   "metadata": {
    "collapsed": true
   },
   "outputs": [],
   "source": [
    "def state_data(s,data):\n",
    "    assert isinstance(s, basestring)\n",
    "    assert isinstance(df, pd.core.frame.DataFrame)\n",
    "    \n",
    "    data = data[pd.notnull(data[s])]\n",
    "    label = list(data[s].unique())\n",
    "    frequency = []\n",
    "    for item in label:\n",
    "        frequency.append(list(data[s]).count(item))\n",
    "    \n",
    "    pair = zip(label,frequency)\n",
    "    pair.sort(key=lambda x:x[1], reverse=True)\n",
    "    \n",
    "    state=list(range(len(pair)))\n",
    "    num=list(range(len(pair)))\n",
    "    for i in range(len(pair)):\n",
    "        state[i] = pair[i][0]\n",
    "        num[i] = pair[i][1]\n",
    "    state_df = pd.DataFrame(\n",
    "    {'state_code': state,\n",
    "     'number_startups': num,\n",
    "    })\n",
    "    \n",
    "    return(state_df)"
   ]
  },
  {
   "cell_type": "code",
   "execution_count": 32,
   "metadata": {},
   "outputs": [
    {
     "data": {
      "text/html": [
       "<script>requirejs.config({paths: { 'plotly': ['https://cdn.plot.ly/plotly-latest.min']},});if(!window.Plotly) {{require(['plotly'],function(plotly) {window.Plotly=plotly;});}}</script>"
      ],
      "text/vnd.plotly.v1+html": [
       "<script>requirejs.config({paths: { 'plotly': ['https://cdn.plot.ly/plotly-latest.min']},});if(!window.Plotly) {{require(['plotly'],function(plotly) {window.Plotly=plotly;});}}</script>"
      ]
     },
     "metadata": {},
     "output_type": "display_data"
    },
    {
     "data": {
      "application/vnd.plotly.v1+json": {
       "data": [
        {
         "autocolorscale": false,
         "colorbar": {
          "title": "Number of Startups"
         },
         "colorscale": [
          [
           0,
           "rgb(242,240,247)"
          ],
          [
           0.2,
           "rgb(218,218,235)"
          ],
          [
           0.4,
           "rgb(188,189,220)"
          ],
          [
           0.6,
           "rgb(158,154,200)"
          ],
          [
           0.8,
           "rgb(117,107,177)"
          ],
          [
           1,
           "rgb(84,39,143)"
          ]
         ],
         "locationmode": "USA-states",
         "locations": [
          "CA",
          "NY",
          "TX",
          "NJ",
          "UT",
          "AZ",
          "IN",
          "AR",
          "MA",
          "KS",
          "MD",
          "CT",
          "VA",
          "GA",
          "FL"
         ],
         "marker": {
          "line": {
           "color": "rgb(255,255,255)",
           "width": 2
          }
         },
         "type": "choropleth",
         "z": [
          9,
          8,
          3,
          3,
          2,
          2,
          1,
          1,
          1,
          1,
          1,
          1,
          1,
          1,
          1
         ]
        }
       ],
       "layout": {
        "geo": {
         "lakecolor": "rgb(255, 255, 255)",
         "projection": {
          "type": "albers usa"
         },
         "scope": "usa",
         "showlakes": true
        },
        "title": "US Sailing Community Startups before 2002"
       }
      },
      "text/html": [
       "<div id=\"fe3b715a-42e1-42b0-ab6b-d952d64fdaee\" style=\"height: 525px; width: 100%;\" class=\"plotly-graph-div\"></div><script type=\"text/javascript\">require([\"plotly\"], function(Plotly) { window.PLOTLYENV=window.PLOTLYENV || {};window.PLOTLYENV.BASE_URL=\"https://plot.ly\";Plotly.newPlot(\"fe3b715a-42e1-42b0-ab6b-d952d64fdaee\", [{\"autocolorscale\": false, \"colorscale\": [[0.0, \"rgb(242,240,247)\"], [0.2, \"rgb(218,218,235)\"], [0.4, \"rgb(188,189,220)\"], [0.6, \"rgb(158,154,200)\"], [0.8, \"rgb(117,107,177)\"], [1.0, \"rgb(84,39,143)\"]], \"type\": \"choropleth\", \"locations\": [\"CA\", \"NY\", \"TX\", \"NJ\", \"UT\", \"AZ\", \"IN\", \"AR\", \"MA\", \"KS\", \"MD\", \"CT\", \"VA\", \"GA\", \"FL\"], \"colorbar\": {\"title\": \"Number of Startups\"}, \"marker\": {\"line\": {\"color\": \"rgb(255,255,255)\", \"width\": 2}}, \"z\": [9.0, 8.0, 3.0, 3.0, 2.0, 2.0, 1.0, 1.0, 1.0, 1.0, 1.0, 1.0, 1.0, 1.0, 1.0], \"locationmode\": \"USA-states\"}], {\"geo\": {\"showlakes\": true, \"scope\": \"usa\", \"projection\": {\"type\": \"albers usa\"}, \"lakecolor\": \"rgb(255, 255, 255)\"}, \"title\": \"US Sailing Community Startups before 2002\"}, {\"linkText\": \"Export to plot.ly\", \"showLink\": true})});</script>"
      ],
      "text/vnd.plotly.v1+html": [
       "<div id=\"fe3b715a-42e1-42b0-ab6b-d952d64fdaee\" style=\"height: 525px; width: 100%;\" class=\"plotly-graph-div\"></div><script type=\"text/javascript\">require([\"plotly\"], function(Plotly) { window.PLOTLYENV=window.PLOTLYENV || {};window.PLOTLYENV.BASE_URL=\"https://plot.ly\";Plotly.newPlot(\"fe3b715a-42e1-42b0-ab6b-d952d64fdaee\", [{\"autocolorscale\": false, \"colorscale\": [[0.0, \"rgb(242,240,247)\"], [0.2, \"rgb(218,218,235)\"], [0.4, \"rgb(188,189,220)\"], [0.6, \"rgb(158,154,200)\"], [0.8, \"rgb(117,107,177)\"], [1.0, \"rgb(84,39,143)\"]], \"type\": \"choropleth\", \"locations\": [\"CA\", \"NY\", \"TX\", \"NJ\", \"UT\", \"AZ\", \"IN\", \"AR\", \"MA\", \"KS\", \"MD\", \"CT\", \"VA\", \"GA\", \"FL\"], \"colorbar\": {\"title\": \"Number of Startups\"}, \"marker\": {\"line\": {\"color\": \"rgb(255,255,255)\", \"width\": 2}}, \"z\": [9.0, 8.0, 3.0, 3.0, 2.0, 2.0, 1.0, 1.0, 1.0, 1.0, 1.0, 1.0, 1.0, 1.0, 1.0], \"locationmode\": \"USA-states\"}], {\"geo\": {\"showlakes\": true, \"scope\": \"usa\", \"projection\": {\"type\": \"albers usa\"}, \"lakecolor\": \"rgb(255, 255, 255)\"}, \"title\": \"US Sailing Community Startups before 2002\"}, {\"linkText\": \"Export to plot.ly\", \"showLink\": true})});</script>"
      ]
     },
     "metadata": {},
     "output_type": "display_data"
    }
   ],
   "source": [
    "init_notebook_mode(connected=True)\n",
    "df =state_data('state_code',bf2002)\n",
    "\n",
    "scl = [[0.0, 'rgb(242,240,247)'],[0.2, 'rgb(218,218,235)'],[0.4, 'rgb(188,189,220)'],\\\n",
    "            [0.6, 'rgb(158,154,200)'],[0.8, 'rgb(117,107,177)'],[1.0, 'rgb(84,39,143)']]\n",
    "\n",
    "data = [ dict(\n",
    "        type='choropleth',\n",
    "        colorscale = scl,\n",
    "        autocolorscale = False,\n",
    "        locations = df['state_code'],\n",
    "        z = df['number_startups'].astype(float),\n",
    "        locationmode = 'USA-states',\n",
    "        marker = dict(\n",
    "            line = dict (\n",
    "                color = 'rgb(255,255,255)',\n",
    "                width = 2\n",
    "            ) ),\n",
    "        colorbar = dict(\n",
    "            title = \"Number of Startups\")\n",
    "        ) ]\n",
    "\n",
    "layout = dict(\n",
    "        title = 'US Sailing Community Startups before 2002',\n",
    "        geo = dict(\n",
    "            scope='usa',\n",
    "            projection=dict( type='albers usa' ),\n",
    "            showlakes = True,\n",
    "            lakecolor = 'rgb(255, 255, 255)'),\n",
    "             )\n",
    "    \n",
    "fig = dict( data=data, layout=layout )\n",
    "plotly.offline.iplot( fig, filename='d3-cloropleth-map' )"
   ]
  },
  {
   "cell_type": "code",
   "execution_count": null,
   "metadata": {},
   "outputs": [],
   "source": [
    "investments = pd.read_csv('investments.csv')\n",
    "investments = investments[investments['investor_country_code'] == USA]\n",
    "investments = investments[pd.notnull(investments['investor_state_code'])]\n",
    "\n",
    "investments = pd.read_csv('investments.csv')\n",
    "investments = investments[investments['company_country_code'] == USA]\n",
    "investments = investments[pd.notnull(investments['company_state_code'])]"
   ]
  },
  {
   "cell_type": "code",
   "execution_count": null,
   "metadata": {
    "collapsed": true
   },
   "outputs": [],
   "source": []
  },
  {
   "cell_type": "code",
   "execution_count": null,
   "metadata": {
    "collapsed": true
   },
   "outputs": [],
   "source": []
  },
  {
   "cell_type": "code",
   "execution_count": 38,
   "metadata": {
    "collapsed": true
   },
   "outputs": [],
   "source": [
    "def funding_type(s,df):\n",
    "    assert isinstance(s, basestring)\n",
    "    assert isinstance(df, pd.core.frame.DataFrame)\n",
    "    \n",
    "    df = df[pd.notnull(df[s])]\n",
    "    label = list(df[s].unique())\n",
    "    frequency = []\n",
    "    for item in label:\n",
    "        frequency.append(list(companies[s]).count(item))\n",
    "    \n",
    "    pair = zip(label,frequency)\n",
    "    pair.sort(key=lambda x:x[1], reverse=True)\n",
    "    \n",
    "    return(pair)"
   ]
  },
  {
   "cell_type": "code",
   "execution_count": null,
   "metadata": {},
   "outputs": [],
   "source": []
  },
  {
   "cell_type": "code",
   "execution_count": 135,
   "metadata": {},
   "outputs": [],
   "source": [
    "companies = pd.read_csv('companies.csv')\n",
    "companies=companies[pd.notnull(companies['name'])]\n",
    "companies=companies[pd.notnull(companies['founded_at'])]\n",
    "companies=companies[pd.notnull(companies['funding_rounds'])]\n",
    "companies=companies[pd.notnull(companies['status'])]\n",
    "companies=companies[pd.notnull(companies['first_funding_at'])]\n",
    "companies=companies[pd.notnull(companies['last_funding_at'])]\n",
    "\n",
    "companies['first_funding_at']=companies['first_funding_at'].apply(lambda x:datetime.strptime(x, '%Y-%m-%d'))\n",
    "first = companies['first_funding_at'].apply(lambda x:x.date())\n",
    "companies['last_funding_at']=companies['last_funding_at'].apply(lambda x:datetime.strptime(x, '%Y-%m-%d'))\n",
    "last = companies['last_funding_at'].apply(lambda x:x.date())\n",
    "companies['founded_at']=companies['founded_at'].apply(lambda x:datetime.strptime(x, '%Y-%m-%d'))\n",
    "founded = companies['founded_at'].apply(lambda x:x.date())\n",
    "\n",
    "status = []\n",
    "for i in companies['status']:\n",
    "    if i == 'operating':\n",
    "        status.append('success')\n",
    "    else:\n",
    "        status.append('fail')\n",
    "\n",
    "rounds = list(companies['funding_rounds'])\n",
    "name = list(companies['name'])\n",
    "last_first_diff = list(last-first)        \n",
    "first_found_diff = list(first-founded)\n",
    "\n",
    "newdf = pd.DataFrame({'name': name})\n",
    "newdf['status'] = status\n",
    "newdf['funding_rounds'] = rounds\n",
    "newdf['days_between_first_last_funding'] = last_first_diff\n",
    "newdf['days_between_founded_first_funding'] = last_first_diff\n",
    "\n",
    "#newdf.to_csv('combined.csv',index=False)"
   ]
  },
  {
   "cell_type": "code",
   "execution_count": 181,
   "metadata": {},
   "outputs": [],
   "source": [
    "import numpy as np\n",
    "companies = pd.read_csv('companies.csv')\n",
    "companies=companies[pd.notnull(companies['name'])]\n",
    "companies=companies[pd.notnull(companies['founded_at'])]\n",
    "companies=companies[pd.notnull(companies['funding_rounds'])]\n",
    "companies=companies[pd.notnull(companies['status'])]\n",
    "companies=companies[companies['funding_total_usd'] != '-']\n",
    "companies['founded_year']=companies['founded_at'].apply(lambda x:datetime.strptime(x, '%Y-%m-%d').year)\n",
    "companies = companies[(companies['founded_year']>=2005)&(companies['founded_year']<=2010) ]\n",
    "\n",
    "status = []\n",
    "for i in companies['status']:\n",
    "    if i == 'operating':\n",
    "        status.append('success')\n",
    "    else:\n",
    "        status.append('fail')\n",
    "\n",
    "name = list(companies['name'])\n",
    "funding = list(companies['funding_total_usd'])\n",
    "funding = np.array(funding).astype(np.float)\n",
    "rounds = list(companies['funding_rounds'])\n",
    "rounds = np.array(rounds).astype(np.float)\n",
    "analysis = pd.DataFrame({'name': name,'total_funding': funding, 'status':status, 'funding_rounds':rounds})        "
   ]
  },
  {
   "cell_type": "code",
   "execution_count": 182,
   "metadata": {},
   "outputs": [
    {
     "data": {
      "text/html": [
       "<div>\n",
       "<style scoped>\n",
       "    .dataframe tbody tr th:only-of-type {\n",
       "        vertical-align: middle;\n",
       "    }\n",
       "\n",
       "    .dataframe tbody tr th {\n",
       "        vertical-align: top;\n",
       "    }\n",
       "\n",
       "    .dataframe thead th {\n",
       "        text-align: right;\n",
       "    }\n",
       "</style>\n",
       "<table border=\"1\" class=\"dataframe\">\n",
       "  <thead>\n",
       "    <tr style=\"text-align: right;\">\n",
       "      <th></th>\n",
       "      <th>funding_rounds</th>\n",
       "      <th>name</th>\n",
       "      <th>status</th>\n",
       "      <th>total_funding</th>\n",
       "    </tr>\n",
       "  </thead>\n",
       "  <tbody>\n",
       "    <tr>\n",
       "      <th>0</th>\n",
       "      <td>1.0</td>\n",
       "      <td>0-6.com</td>\n",
       "      <td>success</td>\n",
       "      <td>2000000.0</td>\n",
       "    </tr>\n",
       "    <tr>\n",
       "      <th>1</th>\n",
       "      <td>1.0</td>\n",
       "      <td>1000 Corks</td>\n",
       "      <td>success</td>\n",
       "      <td>40000.0</td>\n",
       "    </tr>\n",
       "    <tr>\n",
       "      <th>2</th>\n",
       "      <td>1.0</td>\n",
       "      <td>1000 Markets</td>\n",
       "      <td>fail</td>\n",
       "      <td>500000.0</td>\n",
       "    </tr>\n",
       "  </tbody>\n",
       "</table>\n",
       "</div>"
      ],
      "text/plain": [
       "   funding_rounds          name   status  total_funding\n",
       "0             1.0       0-6.com  success      2000000.0\n",
       "1             1.0    1000 Corks  success        40000.0\n",
       "2             1.0  1000 Markets     fail       500000.0"
      ]
     },
     "execution_count": 182,
     "metadata": {},
     "output_type": "execute_result"
    }
   ],
   "source": [
    "analysis.head(3)"
   ]
  },
  {
   "cell_type": "code",
   "execution_count": 213,
   "metadata": {},
   "outputs": [
    {
     "data": {
      "text/plain": [
       "Text(0,0.5,'fundings in dollar')"
      ]
     },
     "execution_count": 213,
     "metadata": {},
     "output_type": "execute_result"
    },
    {
     "data": {
      "image/png": "[encoded data removed]",
      "text/plain": [
       "<Figure size 432x288 with 1 Axes>"
      ]
     },
     "metadata": {},
     "output_type": "display_data"
    }
   ],
   "source": [
    "import matplotlib.pyplot as plt\n",
    "%matplotlib inline\n",
    "\n",
    "bp = analysis.boxplot(column='total_funding',by='status',showfliers=False)\n",
    "bp.get_figure().suptitle('')\n",
    "bp.get_figure().gca().set_title('Boxplot for total funding')\n",
    "bp.get_figure().gca().set_xlabel('operating status')\n",
    "bp.get_figure().gca().set_ylabel('fundings in dollar')"
   ]
  },
  {
   "cell_type": "code",
   "execution_count": 203,
   "metadata": {},
   "outputs": [],
   "source": [
    "companies = pd.read_csv('companies.csv')\n",
    "companies = companies[companies['country_code']== 'USA']\n",
    "companies=companies[pd.notnull(companies['founded_at'])]\n",
    "companies=companies[pd.notnull(companies['status'])]\n",
    "companies['founded_year']=companies['founded_at'].apply(lambda x:datetime.strptime(x, '%Y-%m-%d').year)\n",
    "companies = companies[(companies['founded_year']>=2005)&(companies['founded_year']<=2010)]\n",
    "\n",
    "label = list(companies['status'].unique())\n",
    "size = []\n",
    "for item in label:\n",
    "    size.append(list(companies['status']).count(item))\n",
    "    \n",
    "plot_pie_chart(label, size, 'The status of startups founded between 2005 and 2010 in USA')\n"
   ]
  },
  {
   "cell_type": "code",
   "execution_count": 206,
   "metadata": {},
   "outputs": [],
   "source": [
    "companies = pd.read_csv('companies.csv')\n",
    "companies = companies[companies['country_code'] == 'USA']\n",
    "companies = companies[companies['status'] == 'operating']\n",
    "companies = companies[pd.notnull(companies['state_code'])]\n",
    "companies = companies[pd.notnull(companies['founded_at'])]\n",
    "companies['founded_year']=companies['founded_at'].apply(lambda x:datetime.strptime(x, '%Y-%m-%d').year)\n",
    "companies = companies[(companies['founded_year']>=2005)&(companies['founded_year']<=2010)]\n",
    "state = list(companies['state_code'].unique())\n",
    "num = []\n",
    "for item in state:\n",
    "    num.append(list(companies['state_code']).count(item))\n",
    "\n",
    "df = pd.DataFrame({'state_code': state,'number_startups': num})\n",
    "plot_choropleth(df,'startups that founded betweeen 2005 and 2010 in USA which are still operating')"
   ]
  },
  {
   "cell_type": "code",
   "execution_count": 215,
   "metadata": {},
   "outputs": [],
   "source": [
    "investments = pd.read_csv('investments.csv')\n",
    "investments = investments[investments['funding_round_type'] == 'venture']\n",
    "investments = investments[pd.notnull(investments['funding_round_code'])]\n",
    "label = list(investments['funding_round_code'].unique())\n",
    "size = []\n",
    "for item in label:\n",
    "    size.append(list(investments['funding_round_code']).count(item))\n",
    "    \n",
    "plot_pie_chart(label, size, 'The stage of funding by venture investment')"
   ]
  },
  {
   "cell_type": "code",
   "execution_count": 217,
   "metadata": {},
   "outputs": [],
   "source": [
    "investments = pd.read_csv('investments.csv')\n",
    "investments = investments[investments['funding_round_type'] == 'venture']\n",
    "investments = investments[pd.notnull(investments['funding_round_code'])]\n",
    "investments = investments[pd.notnull(investments['raised_amount_usd'])]\n",
    "\n",
    "df = investments['raised_amount_usd'].groupby(investments['funding_round_code']).agg('sum')\n",
    "label = list(df.index)\n",
    "size = df.tolist()\n",
    "plot_pie_chart(label, size, 'The amount of funding by stage of venture investment')"
   ]
  },
  {
   "cell_type": "code",
   "execution_count": null,
   "metadata": {},
   "outputs": [],
   "source": []
  },
  {
   "cell_type": "code",
   "execution_count": null,
   "metadata": {},
   "outputs": [],
   "source": []
  },
  {
   "cell_type": "code",
   "execution_count": null,
   "metadata": {},
   "outputs": [],
   "source": []
  },
  {
   "cell_type": "code",
   "execution_count": null,
   "metadata": {
    "collapsed": true
   },
   "outputs": [],
   "source": []
  }
 ],
 "metadata": {
  "kernelspec": {
   "display_name": "Python 2",
   "language": "python",
   "name": "python2"
  },
  "language_info": {
   "codemirror_mode": {
    "name": "ipython",
    "version": 2
   },
   "file_extension": ".py",
   "mimetype": "text/x-python",
   "name": "python",
   "nbconvert_exporter": "python",
   "pygments_lexer": "ipython2",
   "version": "2.7.14"
  }
 },
 "nbformat": 4,
 "nbformat_minor": 2
}
